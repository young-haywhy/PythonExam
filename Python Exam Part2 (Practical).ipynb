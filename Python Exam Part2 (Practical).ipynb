{
 "cells": [
  {
   "cell_type": "markdown",
   "id": "fcc1ee3d-572e-4340-bfb3-c90b364e5924",
   "metadata": {},
   "source": [
    "#                                   Python Exam Part 2"
   ]
  },
  {
   "cell_type": "markdown",
   "id": "711e4ad0-ff26-4ebf-9116-09694668f27b",
   "metadata": {},
   "source": [
    "## Description\n",
    "This notebook is used to answer questions of a pratical Python Exam. In this notebook, we read a csv file to create a Pandas DataFrame, and analyse the data of the DataFrame to answer different questions based on analysis performed.\n",
    "\n",
    "The exam, crafted by ExploreAI Academy, was designed to assess the proficiency of us learners in data wrangling and performing data analysis using Python. Additionally, it aimed to evaluate our overall understanding of Python coding, particularly following the completion of the Python module lessons.\r\n",
    "\r\n",
    "\r\n"
   ]
  },
  {
   "cell_type": "markdown",
   "id": "9e5a9b37-5196-46b6-8e06-296dfdf1d8ed",
   "metadata": {},
   "source": [
    "## Exam Resources\n",
    "- A `MD_agric_exam.csv` file is provided. On the data in the file, we perform our analysis."
   ]
  },
  {
   "cell_type": "markdown",
   "id": "ba74d4a0-d850-4c18-9a87-a0d6e3350337",
   "metadata": {},
   "source": [
    "### Number of questions: 12"
   ]
  },
  {
   "cell_type": "markdown",
   "id": "4b14af52-7449-4ec5-aaa8-21f7fb20e6c3",
   "metadata": {},
   "source": [
    "## Import necessary packages\n",
    "Firstly, we import necessary packages that like Pandas for loading the DataFrame and performing analysis on it, Numpy package will also be needed to perform basic numeric operations on numerical data."
   ]
  },
  {
   "cell_type": "code",
   "execution_count": 2,
   "id": "63eb3775-e63d-4987-beac-81d2f6424a94",
   "metadata": {},
   "outputs": [],
   "source": [
    "import pandas as pd  #import the pandas package in our environment\n",
    "import numpy as np  #import the numpy package in our environment"
   ]
  },
  {
   "cell_type": "markdown",
   "id": "3b4ed3b1-92c2-440a-8c56-ec6c551a2856",
   "metadata": {},
   "source": [
    "## Read the CSV file into Pandas\n",
    "Before performing any analysis, we read in our data into our environment as a Pandas DataFrame."
   ]
  },
  {
   "cell_type": "code",
   "execution_count": 7,
   "id": "9929dce5-8066-4410-8131-0ac2527db658",
   "metadata": {},
   "outputs": [
    {
     "data": {
      "text/html": [
       "<div>\n",
       "<style scoped>\n",
       "    .dataframe tbody tr th:only-of-type {\n",
       "        vertical-align: middle;\n",
       "    }\n",
       "\n",
       "    .dataframe tbody tr th {\n",
       "        vertical-align: top;\n",
       "    }\n",
       "\n",
       "    .dataframe thead th {\n",
       "        text-align: right;\n",
       "    }\n",
       "</style>\n",
       "<table border=\"1\" class=\"dataframe\">\n",
       "  <thead>\n",
       "    <tr style=\"text-align: right;\">\n",
       "      <th></th>\n",
       "      <th>Field_ID</th>\n",
       "      <th>Elevation</th>\n",
       "      <th>Rainfall</th>\n",
       "      <th>Min_temperature_C</th>\n",
       "      <th>Max_temperature_C</th>\n",
       "      <th>pH</th>\n",
       "      <th>Pollution_level</th>\n",
       "      <th>Plot_size</th>\n",
       "      <th>Annual_yield</th>\n",
       "      <th>Crop_type</th>\n",
       "    </tr>\n",
       "  </thead>\n",
       "  <tbody>\n",
       "    <tr>\n",
       "      <th>0</th>\n",
       "      <td>1162</td>\n",
       "      <td>494.95615</td>\n",
       "      <td>1507.6</td>\n",
       "      <td>-5.4</td>\n",
       "      <td>31.0</td>\n",
       "      <td>6.859436</td>\n",
       "      <td>0.007034</td>\n",
       "      <td>3.6</td>\n",
       "      <td>1.617421</td>\n",
       "      <td>coffee</td>\n",
       "    </tr>\n",
       "    <tr>\n",
       "      <th>1</th>\n",
       "      <td>5108</td>\n",
       "      <td>663.73390</td>\n",
       "      <td>581.0</td>\n",
       "      <td>-4.7</td>\n",
       "      <td>30.9</td>\n",
       "      <td>5.603219</td>\n",
       "      <td>0.289643</td>\n",
       "      <td>4.2</td>\n",
       "      <td>2.532497</td>\n",
       "      <td>potato</td>\n",
       "    </tr>\n",
       "    <tr>\n",
       "      <th>2</th>\n",
       "      <td>3504</td>\n",
       "      <td>396.87990</td>\n",
       "      <td>1715.1</td>\n",
       "      <td>-6.1</td>\n",
       "      <td>31.7</td>\n",
       "      <td>5.774116</td>\n",
       "      <td>0.000409</td>\n",
       "      <td>2.6</td>\n",
       "      <td>1.262207</td>\n",
       "      <td>banana</td>\n",
       "    </tr>\n",
       "    <tr>\n",
       "      <th>3</th>\n",
       "      <td>5351</td>\n",
       "      <td>594.80370</td>\n",
       "      <td>1748.0</td>\n",
       "      <td>-4.3</td>\n",
       "      <td>33.6</td>\n",
       "      <td>6.477415</td>\n",
       "      <td>0.088777</td>\n",
       "      <td>7.9</td>\n",
       "      <td>4.351564</td>\n",
       "      <td>wheat</td>\n",
       "    </tr>\n",
       "    <tr>\n",
       "      <th>4</th>\n",
       "      <td>905</td>\n",
       "      <td>609.49800</td>\n",
       "      <td>1395.8</td>\n",
       "      <td>-4.5</td>\n",
       "      <td>31.3</td>\n",
       "      <td>5.419586</td>\n",
       "      <td>0.050023</td>\n",
       "      <td>10.8</td>\n",
       "      <td>5.034791</td>\n",
       "      <td>cassava</td>\n",
       "    </tr>\n",
       "    <tr>\n",
       "      <th>...</th>\n",
       "      <td>...</td>\n",
       "      <td>...</td>\n",
       "      <td>...</td>\n",
       "      <td>...</td>\n",
       "      <td>...</td>\n",
       "      <td>...</td>\n",
       "      <td>...</td>\n",
       "      <td>...</td>\n",
       "      <td>...</td>\n",
       "      <td>...</td>\n",
       "    </tr>\n",
       "    <tr>\n",
       "      <th>995</th>\n",
       "      <td>2202</td>\n",
       "      <td>572.95935</td>\n",
       "      <td>625.6</td>\n",
       "      <td>-5.5</td>\n",
       "      <td>31.0</td>\n",
       "      <td>5.258964</td>\n",
       "      <td>0.086330</td>\n",
       "      <td>1.2</td>\n",
       "      <td>0.750675</td>\n",
       "      <td>wheat</td>\n",
       "    </tr>\n",
       "    <tr>\n",
       "      <th>996</th>\n",
       "      <td>2531</td>\n",
       "      <td>552.80945</td>\n",
       "      <td>398.1</td>\n",
       "      <td>-5.9</td>\n",
       "      <td>33.4</td>\n",
       "      <td>4.607136</td>\n",
       "      <td>0.130178</td>\n",
       "      <td>0.8</td>\n",
       "      <td>0.449790</td>\n",
       "      <td>wheat</td>\n",
       "    </tr>\n",
       "    <tr>\n",
       "      <th>997</th>\n",
       "      <td>1040</td>\n",
       "      <td>678.22504</td>\n",
       "      <td>564.4</td>\n",
       "      <td>-4.6</td>\n",
       "      <td>31.7</td>\n",
       "      <td>5.567556</td>\n",
       "      <td>0.448149</td>\n",
       "      <td>1.2</td>\n",
       "      <td>0.492988</td>\n",
       "      <td>maize</td>\n",
       "    </tr>\n",
       "    <tr>\n",
       "      <th>998</th>\n",
       "      <td>58</td>\n",
       "      <td>792.65370</td>\n",
       "      <td>928.5</td>\n",
       "      <td>-3.3</td>\n",
       "      <td>31.2</td>\n",
       "      <td>5.102048</td>\n",
       "      <td>0.387350</td>\n",
       "      <td>1.1</td>\n",
       "      <td>0.597557</td>\n",
       "      <td>potato</td>\n",
       "    </tr>\n",
       "    <tr>\n",
       "      <th>999</th>\n",
       "      <td>3334</td>\n",
       "      <td>747.69850</td>\n",
       "      <td>981.5</td>\n",
       "      <td>-3.7</td>\n",
       "      <td>31.0</td>\n",
       "      <td>6.715882</td>\n",
       "      <td>0.541706</td>\n",
       "      <td>11.1</td>\n",
       "      <td>2.867815</td>\n",
       "      <td>coffee</td>\n",
       "    </tr>\n",
       "  </tbody>\n",
       "</table>\n",
       "<p>1000 rows × 10 columns</p>\n",
       "</div>"
      ],
      "text/plain": [
       "     Field_ID  Elevation  Rainfall  Min_temperature_C  Max_temperature_C  \\\n",
       "0        1162  494.95615    1507.6               -5.4               31.0   \n",
       "1        5108  663.73390     581.0               -4.7               30.9   \n",
       "2        3504  396.87990    1715.1               -6.1               31.7   \n",
       "3        5351  594.80370    1748.0               -4.3               33.6   \n",
       "4         905  609.49800    1395.8               -4.5               31.3   \n",
       "..        ...        ...       ...                ...                ...   \n",
       "995      2202  572.95935     625.6               -5.5               31.0   \n",
       "996      2531  552.80945     398.1               -5.9               33.4   \n",
       "997      1040  678.22504     564.4               -4.6               31.7   \n",
       "998        58  792.65370     928.5               -3.3               31.2   \n",
       "999      3334  747.69850     981.5               -3.7               31.0   \n",
       "\n",
       "           pH  Pollution_level  Plot_size  Annual_yield Crop_type  \n",
       "0    6.859436         0.007034        3.6      1.617421    coffee  \n",
       "1    5.603219         0.289643        4.2      2.532497    potato  \n",
       "2    5.774116         0.000409        2.6      1.262207    banana  \n",
       "3    6.477415         0.088777        7.9      4.351564     wheat  \n",
       "4    5.419586         0.050023       10.8      5.034791   cassava  \n",
       "..        ...              ...        ...           ...       ...  \n",
       "995  5.258964         0.086330        1.2      0.750675     wheat  \n",
       "996  4.607136         0.130178        0.8      0.449790     wheat  \n",
       "997  5.567556         0.448149        1.2      0.492988     maize  \n",
       "998  5.102048         0.387350        1.1      0.597557    potato  \n",
       "999  6.715882         0.541706       11.1      2.867815    coffee  \n",
       "\n",
       "[1000 rows x 10 columns]"
      ]
     },
     "execution_count": 7,
     "metadata": {},
     "output_type": "execute_result"
    }
   ],
   "source": [
    "file_path = \"MD_agric_exam-4313.csv\"\n",
    "df = pd.read_csv(file_path)\n",
    "df"
   ]
  },
  {
   "cell_type": "markdown",
   "id": "9467f22f-ed99-4e73-8bd7-73b267f1912e",
   "metadata": {},
   "source": [
    "## Questions"
   ]
  },
  {
   "cell_type": "markdown",
   "id": "90213899-286a-4699-adc8-c7772c3db5b7",
   "metadata": {},
   "source": [
    "## Question 1"
   ]
  },
  {
   "cell_type": "markdown",
   "id": "4d0796ab-8f3f-4521-a756-39660a5ab46c",
   "metadata": {},
   "source": [
    "Write code to determine the number of unique crop types in the dataset?"
   ]
  },
  {
   "cell_type": "code",
   "execution_count": 11,
   "id": "96b84915-f725-4dfb-9ad9-0fa19659fa1b",
   "metadata": {},
   "outputs": [
    {
     "data": {
      "text/plain": [
       "8"
      ]
     },
     "execution_count": 11,
     "metadata": {},
     "output_type": "execute_result"
    }
   ],
   "source": [
    "#Answer to the above question\n",
    "arr = df['Crop_type'].unique() #to get an array of unique data in the Crop_type column\n",
    "len(arr)"
   ]
  },
  {
   "cell_type": "markdown",
   "id": "1de3b5d2-056c-461d-b75e-46e8a40558c2",
   "metadata": {},
   "source": [
    "## Question 2\n",
    "Identify the maximum annual yield for \"wheat\" crop type in the dataset (rounded to 2 decimal places)."
   ]
  },
  {
   "cell_type": "markdown",
   "id": "a4e1e753-58d6-4d89-b670-74c7891ee0fe",
   "metadata": {},
   "source": [
    "## Answer\n",
    "To answer the question, filter the DataFrame to include data where the crop type is 'wheat', then use the max() method to find the maximum value of the Annual_yield column and round the result to 2dp."
   ]
  },
  {
   "cell_type": "code",
   "execution_count": 62,
   "id": "3c5b1ec7-7043-4cd9-a71d-a875a6fa8429",
   "metadata": {},
   "outputs": [
    {
     "data": {
      "text/plain": [
       "8.99"
      ]
     },
     "execution_count": 62,
     "metadata": {},
     "output_type": "execute_result"
    }
   ],
   "source": [
    "#Answer to the above question\n",
    "filtered_crop_df = df[df['Crop_type'] == \"wheat\"]\n",
    "round(filtered_crop_df['Annual_yield'].max(), 2)"
   ]
  },
  {
   "cell_type": "markdown",
   "id": "0a79ee56-90f5-476d-b728-6ba6794c8159",
   "metadata": {},
   "source": [
    "## Question 3\n",
    "Find the total rainfall for crop types where the average pollution level is above 0.2."
   ]
  },
  {
   "cell_type": "markdown",
   "id": "bca6bfdb-ef08-4f56-a64c-b43a1598244e",
   "metadata": {},
   "source": [
    "## Answer\n",
    "### Steps to final answer\n",
    "- First group the DataFrame df by the unique crop types and aggregate by the mean of the pollution level to return the average pollution level of each crop.\n",
    "- We create a list (crops) of crops where the average pollution level is above 0.2 as realised from the grouped data.\n",
    "- Use the list to filter the DataFrame df to exclude crop types that have their average pollution level below 0.2 (only includes the crop types in the 'crops' list) and find the sum of its 'Rainfall' column."
   ]
  },
  {
   "cell_type": "code",
   "execution_count": 33,
   "id": "5e478d87-5445-47a3-b1ac-f04e1d8e15f7",
   "metadata": {},
   "outputs": [
    {
     "data": {
      "text/html": [
       "<div>\n",
       "<style scoped>\n",
       "    .dataframe tbody tr th:only-of-type {\n",
       "        vertical-align: middle;\n",
       "    }\n",
       "\n",
       "    .dataframe tbody tr th {\n",
       "        vertical-align: top;\n",
       "    }\n",
       "\n",
       "    .dataframe thead th {\n",
       "        text-align: right;\n",
       "    }\n",
       "</style>\n",
       "<table border=\"1\" class=\"dataframe\">\n",
       "  <thead>\n",
       "    <tr style=\"text-align: right;\">\n",
       "      <th></th>\n",
       "      <th>Pollution_level</th>\n",
       "    </tr>\n",
       "    <tr>\n",
       "      <th>Crop_type</th>\n",
       "      <th></th>\n",
       "    </tr>\n",
       "  </thead>\n",
       "  <tbody>\n",
       "    <tr>\n",
       "      <th>banana</th>\n",
       "      <td>0.093806</td>\n",
       "    </tr>\n",
       "    <tr>\n",
       "      <th>cassava</th>\n",
       "      <td>0.327714</td>\n",
       "    </tr>\n",
       "    <tr>\n",
       "      <th>coffee</th>\n",
       "      <td>0.220615</td>\n",
       "    </tr>\n",
       "    <tr>\n",
       "      <th>maize</th>\n",
       "      <td>0.265101</td>\n",
       "    </tr>\n",
       "    <tr>\n",
       "      <th>potato</th>\n",
       "      <td>0.252135</td>\n",
       "    </tr>\n",
       "    <tr>\n",
       "      <th>rice</th>\n",
       "      <td>0.065531</td>\n",
       "    </tr>\n",
       "    <tr>\n",
       "      <th>tea</th>\n",
       "      <td>0.214799</td>\n",
       "    </tr>\n",
       "    <tr>\n",
       "      <th>wheat</th>\n",
       "      <td>0.223527</td>\n",
       "    </tr>\n",
       "  </tbody>\n",
       "</table>\n",
       "</div>"
      ],
      "text/plain": [
       "           Pollution_level\n",
       "Crop_type                 \n",
       "banana            0.093806\n",
       "cassava           0.327714\n",
       "coffee            0.220615\n",
       "maize             0.265101\n",
       "potato            0.252135\n",
       "rice              0.065531\n",
       "tea               0.214799\n",
       "wheat             0.223527"
      ]
     },
     "execution_count": 33,
     "metadata": {},
     "output_type": "execute_result"
    }
   ],
   "source": [
    "#Answer to the above question\n",
    "grouped_df = df.groupby(['Crop_type'])[['Pollution_level']].mean()\n",
    "grouped_df"
   ]
  },
  {
   "cell_type": "code",
   "execution_count": 34,
   "id": "5404f666-b489-4d7e-8480-287d209c58eb",
   "metadata": {},
   "outputs": [
    {
     "data": {
      "text/plain": [
       "941959.7"
      ]
     },
     "execution_count": 34,
     "metadata": {},
     "output_type": "execute_result"
    }
   ],
   "source": [
    "crops = ['cassava', 'coffee', 'maize', 'potato', 'tea', 'wheat'] #crops where average polluyion level is above 0.2\n",
    "filter_df = df.query('Crop_type in @crops')\n",
    "filter_df['Rainfall'].sum()"
   ]
  },
  {
   "cell_type": "markdown",
   "id": "cc680df3-edd7-476c-91e9-af4686b01f30",
   "metadata": {},
   "source": [
    "## Question 4\n",
    "Write a function to calculate the temperature range (Max_temperature_C - Min_temperature_C) for each farmer's field. Then, call the function with the following `Field_ID`: `1458`, `1895`, and `5443`. What are the results of these 3 calls?"
   ]
  },
  {
   "cell_type": "code",
   "execution_count": 54,
   "id": "ac7f167f-7ee0-4fb5-a674-0a23d5830f79",
   "metadata": {},
   "outputs": [
    {
     "data": {
      "text/plain": [
       "135    40.7\n",
       "644    35.7\n",
       "892    33.4\n",
       "dtype: float64"
      ]
     },
     "execution_count": 54,
     "metadata": {},
     "output_type": "execute_result"
    }
   ],
   "source": [
    "#Answer to the question above\n",
    "def calc_temp_range(df, *field_ID):\n",
    "    \"\"\"\n",
    "    calculates the temperature range of a field given the field ID\n",
    "\n",
    "    Arguments:\n",
    "        df: A dataframe with several columns.\n",
    "        Field_ID(int): A number assigned to a field as unique identifier\n",
    "\n",
    "    Returns:\n",
    "        range(series): Difference of the maximum temperature and minimum temperature of a field.\n",
    "    \"\"\"\n",
    "    filter_df = df[df['Field_ID'].isin(field_ID)]\n",
    "    range = filter_df['Max_temperature_C'] - filter_df['Min_temperature_C']\n",
    "    return range\n",
    "\n",
    "\n",
    "calc_temp_range(df, 1458, 1895, 5443)\n"
   ]
  },
  {
   "cell_type": "markdown",
   "id": "f3afd3a8-cb9c-4268-808c-a894d0120ac6",
   "metadata": {},
   "source": [
    "## Question 5\n",
    "What does the following code achieve?\r\n",
    "\r\n",
    "a = data['Crop_type'].unique()\r\n",
    "\r\n",
    "b = float('inf')\r\n",
    "\r\n",
    "c = ''\r\n",
    "\r\n",
    "for crop in a:\r\n",
    "\r\n",
    "    d = data[data['Crop_type'] == crop]['Min_temperature_C'].mean()\r\n",
    "\r\n",
    "    if d < b:\r\n",
    "\r\n",
    "        b = d\r\n",
    "\r\n",
    "        c = crop\r\n",
    "\r\n",
    "print(c)"
   ]
  },
  {
   "cell_type": "markdown",
   "id": "5cc6438c-b40e-4399-8549-a500cfed4cf1",
   "metadata": {},
   "source": [
    "## Answer\n",
    "### Code analysis as follows\n",
    "a = data['Crop_type'].unique(): This line retrieves unique crop types from the 'Crop_type' column of the dataset and stores them in the variable a.\r\n",
    "\r\n",
    "b = float('inf'): This line initializes a variable b with a value of positive infinity. This value will be used to store the minimum mean temperature found so far.\r\n",
    "\r\n",
    "c = '': This line initializes an empty string variable c, which will be used to store the crop type with the lowest mean minimum temperature.\r\n",
    "\r\n",
    "The for loop iterates over each unique crop type in a.\r\n",
    "\r\n",
    "Inside the loop:\r\n",
    "\r\n",
    "d = data[data['Crop_type'] == crop]['Min_temperature_C'].mean(): This line calculates the mean minimum temperature (Min_temperature_C) for the current crop type (crop).\r\n",
    "if d < b:: This condition checks if the mean minimum temperature (d) is less than the current minimum temperature (b).\r\n",
    "If it is, then:\r\n",
    "b = d: Update the minimum temperature to d.\r\n",
    "c = crop: Update the crop type (c) to the current crop type (crop).\r\n",
    "After the loop completes, c will hold the crop type with the lowest mean minimum temperature found in the dataset.\r\n",
    "\r\n",
    "Finally, print(c) prints the crop type with the lowest mean minimum temperature e from the dataset."
   ]
  },
  {
   "cell_type": "markdown",
   "id": "f5b2ed55-54d1-426c-8b6f-70f39db576bf",
   "metadata": {},
   "source": [
    "### Let's run the code to verify"
   ]
  },
  {
   "cell_type": "code",
   "execution_count": 57,
   "id": "2b4d2a42-cbd7-4015-8239-e70ff34d046d",
   "metadata": {},
   "outputs": [
    {
     "name": "stdout",
     "output_type": "stream",
     "text": [
      "rice\n"
     ]
    }
   ],
   "source": [
    "a = df['Crop_type'].unique()\n",
    "\n",
    "b = float('inf')\n",
    "\n",
    "c = ''\n",
    "\n",
    "for crop in a:\n",
    "\n",
    "    d = df[df['Crop_type'] == crop]['Min_temperature_C'].mean()\n",
    "\n",
    "    if d < b:\n",
    "\n",
    "        b = d\n",
    "\n",
    "        c = crop\n",
    "\n",
    "print(c)"
   ]
  },
  {
   "cell_type": "markdown",
   "id": "610777e8-4ef1-492c-a207-f751a8c59918",
   "metadata": {},
   "source": [
    "According to the result of the code, we verify the funtionality of the given code as it is designed to find the crop type with the lowest mean minimum temperature (Min_temperature_C) from a dataset (df)of which in our case is `rice` "
   ]
  },
  {
   "cell_type": "markdown",
   "id": "cc5dd4e7-a268-40e2-96f5-f12747f6b7f6",
   "metadata": {},
   "source": [
    "## Question 6\n",
    "Write code to calculate the total plot size for plots where the pH is less than 5.5."
   ]
  },
  {
   "cell_type": "markdown",
   "id": "b61dd161-88a5-4706-9ce5-b563ae1ef2a1",
   "metadata": {},
   "source": [
    "## Answer\n",
    "To answer the question, filter the DataFrame to include data where the pH is less than 5.5, then use the sum() method to find the total plot size of fields in the filtered data."
   ]
  },
  {
   "cell_type": "code",
   "execution_count": 61,
   "id": "9d60b99e-ea04-4007-b068-c7859b57cf87",
   "metadata": {},
   "outputs": [
    {
     "data": {
      "text/plain": [
       "1731.8999999999999"
      ]
     },
     "execution_count": 61,
     "metadata": {},
     "output_type": "execute_result"
    }
   ],
   "source": [
    "filtered_pH_df = df[df['pH'] < 5.5]\n",
    "filtered_pH_df['Plot_size'].sum()"
   ]
  },
  {
   "cell_type": "markdown",
   "id": "02db9624-77e4-46c8-91f8-1e6625105d2c",
   "metadata": {},
   "source": [
    "## Question 7\n",
    "Using Pandas, create a dataframe that includes entries with a 'Min_temperature_C’< -5 and a 'Max_temperature_C' > 30. How many rows are in the filtered dataset?"
   ]
  },
  {
   "cell_type": "markdown",
   "id": "d7b318bc-c38f-4d16-ba9c-7192bab56847",
   "metadata": {},
   "source": [
    "## Answer"
   ]
  },
  {
   "cell_type": "code",
   "execution_count": 67,
   "id": "62b25cd8-d415-4d1d-8fda-ecaf8ce538f1",
   "metadata": {},
   "outputs": [
    {
     "data": {
      "text/plain": [
       "(319, 10)"
      ]
     },
     "execution_count": 67,
     "metadata": {},
     "output_type": "execute_result"
    }
   ],
   "source": [
    "#Answer to the question above\n",
    "filtered_df = df[(df['Min_temperature_C'] < -5) &(df['Max_temperature_C'] > 30)]\n",
    "filtered_df.shape"
   ]
  },
  {
   "cell_type": "markdown",
   "id": "0d7a795d-1416-4ddc-bcea-699e26e547e9",
   "metadata": {},
   "source": [
    "## Question 8\n",
    "Using Numpy, calculate the standard deviation of the 'Rainfall' for plots where the 'Plot_size' is larger than the median plot size of the dataset (round to 2 decimal places)."
   ]
  },
  {
   "cell_type": "code",
   "execution_count": 76,
   "id": "cb358d7c-c8c3-4342-8b67-98f224d65336",
   "metadata": {},
   "outputs": [
    {
     "data": {
      "text/plain": [
       "469.6199685856172"
      ]
     },
     "execution_count": 76,
     "metadata": {},
     "output_type": "execute_result"
    }
   ],
   "source": [
    "#Answer to the question above\n",
    "median = df['Plot_size'].median()\n",
    "filter_median_df = df[df['Plot_size'] > median]\n",
    "np.std(filter_median_df['Rainfall'])"
   ]
  },
  {
   "cell_type": "markdown",
   "id": "d77000d6-84d9-4575-8402-822be33202d1",
   "metadata": {},
   "source": [
    "## Question 9\n",
    "If you concatenate the first three digits of the most common ‘Max_temperature_C’ with the last three letters of the least common 'Crop_type', what string do you get?\r\n",
    "Note: Use the first mode if there are multiple modes"
   ]
  },
  {
   "cell_type": "markdown",
   "id": "4b43a710-5b5c-43a1-9e6d-7dc8dddc7d63",
   "metadata": {},
   "source": [
    "## Answer\n",
    "### Steps to final answer\n",
    "- First group the DataFrame df by the 'Max_temperature_C' column and aggregate the result by count(), then sort the resulting dataframe in descending order.\n",
    "- Also group the DataFrame df by the 'Crop_type' column and aggregate the result by count(), then sort the resulting dataframe in ascending order.\n",
    "- Define a function `join_strings` that accepts two dataframes and concatenate the first three elements of the name of the first index of the first dataframe and last three elements of the name of the first index of the second dataframe.\n",
    "- Lastly, call the function and pass in the previously created grouped dataframes."
   ]
  },
  {
   "cell_type": "markdown",
   "id": "b66801e5-2662-463f-b26e-a4a6a1352e7a",
   "metadata": {},
   "source": [
    "### Create the first grouped dataframe `grouped_temp`"
   ]
  },
  {
   "cell_type": "code",
   "execution_count": 84,
   "id": "d02376c1-6fbf-4e28-9498-4da8c824c1d7",
   "metadata": {},
   "outputs": [
    {
     "data": {
      "text/html": [
       "<div>\n",
       "<style scoped>\n",
       "    .dataframe tbody tr th:only-of-type {\n",
       "        vertical-align: middle;\n",
       "    }\n",
       "\n",
       "    .dataframe tbody tr th {\n",
       "        vertical-align: top;\n",
       "    }\n",
       "\n",
       "    .dataframe thead th {\n",
       "        text-align: right;\n",
       "    }\n",
       "</style>\n",
       "<table border=\"1\" class=\"dataframe\">\n",
       "  <thead>\n",
       "    <tr style=\"text-align: right;\">\n",
       "      <th></th>\n",
       "      <th>Field_ID</th>\n",
       "      <th>Elevation</th>\n",
       "      <th>Rainfall</th>\n",
       "      <th>Min_temperature_C</th>\n",
       "      <th>pH</th>\n",
       "      <th>Pollution_level</th>\n",
       "      <th>Plot_size</th>\n",
       "      <th>Annual_yield</th>\n",
       "      <th>Crop_type</th>\n",
       "    </tr>\n",
       "    <tr>\n",
       "      <th>Max_temperature_C</th>\n",
       "      <th></th>\n",
       "      <th></th>\n",
       "      <th></th>\n",
       "      <th></th>\n",
       "      <th></th>\n",
       "      <th></th>\n",
       "      <th></th>\n",
       "      <th></th>\n",
       "      <th></th>\n",
       "    </tr>\n",
       "  </thead>\n",
       "  <tbody>\n",
       "    <tr>\n",
       "      <th>30.7</th>\n",
       "      <td>26</td>\n",
       "      <td>26</td>\n",
       "      <td>26</td>\n",
       "      <td>26</td>\n",
       "      <td>26</td>\n",
       "      <td>26</td>\n",
       "      <td>26</td>\n",
       "      <td>26</td>\n",
       "      <td>26</td>\n",
       "    </tr>\n",
       "    <tr>\n",
       "      <th>31.0</th>\n",
       "      <td>25</td>\n",
       "      <td>25</td>\n",
       "      <td>25</td>\n",
       "      <td>25</td>\n",
       "      <td>25</td>\n",
       "      <td>25</td>\n",
       "      <td>25</td>\n",
       "      <td>25</td>\n",
       "      <td>25</td>\n",
       "    </tr>\n",
       "    <tr>\n",
       "      <th>30.5</th>\n",
       "      <td>24</td>\n",
       "      <td>24</td>\n",
       "      <td>24</td>\n",
       "      <td>24</td>\n",
       "      <td>24</td>\n",
       "      <td>24</td>\n",
       "      <td>24</td>\n",
       "      <td>24</td>\n",
       "      <td>24</td>\n",
       "    </tr>\n",
       "    <tr>\n",
       "      <th>31.5</th>\n",
       "      <td>23</td>\n",
       "      <td>23</td>\n",
       "      <td>23</td>\n",
       "      <td>23</td>\n",
       "      <td>23</td>\n",
       "      <td>23</td>\n",
       "      <td>23</td>\n",
       "      <td>23</td>\n",
       "      <td>23</td>\n",
       "    </tr>\n",
       "    <tr>\n",
       "      <th>30.6</th>\n",
       "      <td>22</td>\n",
       "      <td>22</td>\n",
       "      <td>22</td>\n",
       "      <td>22</td>\n",
       "      <td>22</td>\n",
       "      <td>22</td>\n",
       "      <td>22</td>\n",
       "      <td>22</td>\n",
       "      <td>22</td>\n",
       "    </tr>\n",
       "    <tr>\n",
       "      <th>...</th>\n",
       "      <td>...</td>\n",
       "      <td>...</td>\n",
       "      <td>...</td>\n",
       "      <td>...</td>\n",
       "      <td>...</td>\n",
       "      <td>...</td>\n",
       "      <td>...</td>\n",
       "      <td>...</td>\n",
       "      <td>...</td>\n",
       "    </tr>\n",
       "    <tr>\n",
       "      <th>25.9</th>\n",
       "      <td>1</td>\n",
       "      <td>1</td>\n",
       "      <td>1</td>\n",
       "      <td>1</td>\n",
       "      <td>1</td>\n",
       "      <td>1</td>\n",
       "      <td>1</td>\n",
       "      <td>1</td>\n",
       "      <td>1</td>\n",
       "    </tr>\n",
       "    <tr>\n",
       "      <th>26.5</th>\n",
       "      <td>1</td>\n",
       "      <td>1</td>\n",
       "      <td>1</td>\n",
       "      <td>1</td>\n",
       "      <td>1</td>\n",
       "      <td>1</td>\n",
       "      <td>1</td>\n",
       "      <td>1</td>\n",
       "      <td>1</td>\n",
       "    </tr>\n",
       "    <tr>\n",
       "      <th>26.4</th>\n",
       "      <td>1</td>\n",
       "      <td>1</td>\n",
       "      <td>1</td>\n",
       "      <td>1</td>\n",
       "      <td>1</td>\n",
       "      <td>1</td>\n",
       "      <td>1</td>\n",
       "      <td>1</td>\n",
       "      <td>1</td>\n",
       "    </tr>\n",
       "    <tr>\n",
       "      <th>26.3</th>\n",
       "      <td>1</td>\n",
       "      <td>1</td>\n",
       "      <td>1</td>\n",
       "      <td>1</td>\n",
       "      <td>1</td>\n",
       "      <td>1</td>\n",
       "      <td>1</td>\n",
       "      <td>1</td>\n",
       "      <td>1</td>\n",
       "    </tr>\n",
       "    <tr>\n",
       "      <th>37.3</th>\n",
       "      <td>1</td>\n",
       "      <td>1</td>\n",
       "      <td>1</td>\n",
       "      <td>1</td>\n",
       "      <td>1</td>\n",
       "      <td>1</td>\n",
       "      <td>1</td>\n",
       "      <td>1</td>\n",
       "      <td>1</td>\n",
       "    </tr>\n",
       "  </tbody>\n",
       "</table>\n",
       "<p>100 rows × 9 columns</p>\n",
       "</div>"
      ],
      "text/plain": [
       "                   Field_ID  Elevation  Rainfall  Min_temperature_C  pH  \\\n",
       "Max_temperature_C                                                         \n",
       "30.7                     26         26        26                 26  26   \n",
       "31.0                     25         25        25                 25  25   \n",
       "30.5                     24         24        24                 24  24   \n",
       "31.5                     23         23        23                 23  23   \n",
       "30.6                     22         22        22                 22  22   \n",
       "...                     ...        ...       ...                ...  ..   \n",
       "25.9                      1          1         1                  1   1   \n",
       "26.5                      1          1         1                  1   1   \n",
       "26.4                      1          1         1                  1   1   \n",
       "26.3                      1          1         1                  1   1   \n",
       "37.3                      1          1         1                  1   1   \n",
       "\n",
       "                   Pollution_level  Plot_size  Annual_yield  Crop_type  \n",
       "Max_temperature_C                                                       \n",
       "30.7                            26         26            26         26  \n",
       "31.0                            25         25            25         25  \n",
       "30.5                            24         24            24         24  \n",
       "31.5                            23         23            23         23  \n",
       "30.6                            22         22            22         22  \n",
       "...                            ...        ...           ...        ...  \n",
       "25.9                             1          1             1          1  \n",
       "26.5                             1          1             1          1  \n",
       "26.4                             1          1             1          1  \n",
       "26.3                             1          1             1          1  \n",
       "37.3                             1          1             1          1  \n",
       "\n",
       "[100 rows x 9 columns]"
      ]
     },
     "execution_count": 84,
     "metadata": {},
     "output_type": "execute_result"
    }
   ],
   "source": [
    "#Answer to the above question\n",
    "grouped_temp = df.groupby('Max_temperature_C').count() #group df by 'Max_temperature_C' column\n",
    "grouped_temp = grouped_temp.sort_values(by='Field_ID', ascending=False)\n",
    "grouped_temp"
   ]
  },
  {
   "cell_type": "markdown",
   "id": "cc099538-9bcd-4884-898f-aa31643d5026",
   "metadata": {},
   "source": [
    "### Create the second grouped dataframe `grouped_crop`"
   ]
  },
  {
   "cell_type": "code",
   "execution_count": 96,
   "id": "4b757d5b-94a5-43bb-9120-213f2875d7a7",
   "metadata": {},
   "outputs": [
    {
     "data": {
      "text/html": [
       "<div>\n",
       "<style scoped>\n",
       "    .dataframe tbody tr th:only-of-type {\n",
       "        vertical-align: middle;\n",
       "    }\n",
       "\n",
       "    .dataframe tbody tr th {\n",
       "        vertical-align: top;\n",
       "    }\n",
       "\n",
       "    .dataframe thead th {\n",
       "        text-align: right;\n",
       "    }\n",
       "</style>\n",
       "<table border=\"1\" class=\"dataframe\">\n",
       "  <thead>\n",
       "    <tr style=\"text-align: right;\">\n",
       "      <th></th>\n",
       "      <th>Field_ID</th>\n",
       "      <th>Elevation</th>\n",
       "      <th>Rainfall</th>\n",
       "      <th>Min_temperature_C</th>\n",
       "      <th>Max_temperature_C</th>\n",
       "      <th>pH</th>\n",
       "      <th>Pollution_level</th>\n",
       "      <th>Plot_size</th>\n",
       "      <th>Annual_yield</th>\n",
       "    </tr>\n",
       "    <tr>\n",
       "      <th>Crop_type</th>\n",
       "      <th></th>\n",
       "      <th></th>\n",
       "      <th></th>\n",
       "      <th></th>\n",
       "      <th></th>\n",
       "      <th></th>\n",
       "      <th></th>\n",
       "      <th></th>\n",
       "      <th></th>\n",
       "    </tr>\n",
       "  </thead>\n",
       "  <tbody>\n",
       "    <tr>\n",
       "      <th>rice</th>\n",
       "      <td>48</td>\n",
       "      <td>48</td>\n",
       "      <td>48</td>\n",
       "      <td>48</td>\n",
       "      <td>48</td>\n",
       "      <td>48</td>\n",
       "      <td>48</td>\n",
       "      <td>48</td>\n",
       "      <td>48</td>\n",
       "    </tr>\n",
       "    <tr>\n",
       "      <th>maize</th>\n",
       "      <td>82</td>\n",
       "      <td>82</td>\n",
       "      <td>82</td>\n",
       "      <td>82</td>\n",
       "      <td>82</td>\n",
       "      <td>82</td>\n",
       "      <td>82</td>\n",
       "      <td>82</td>\n",
       "      <td>82</td>\n",
       "    </tr>\n",
       "    <tr>\n",
       "      <th>coffee</th>\n",
       "      <td>99</td>\n",
       "      <td>99</td>\n",
       "      <td>99</td>\n",
       "      <td>99</td>\n",
       "      <td>99</td>\n",
       "      <td>99</td>\n",
       "      <td>99</td>\n",
       "      <td>99</td>\n",
       "      <td>99</td>\n",
       "    </tr>\n",
       "    <tr>\n",
       "      <th>banana</th>\n",
       "      <td>103</td>\n",
       "      <td>103</td>\n",
       "      <td>103</td>\n",
       "      <td>103</td>\n",
       "      <td>103</td>\n",
       "      <td>103</td>\n",
       "      <td>103</td>\n",
       "      <td>103</td>\n",
       "      <td>103</td>\n",
       "    </tr>\n",
       "    <tr>\n",
       "      <th>tea</th>\n",
       "      <td>137</td>\n",
       "      <td>137</td>\n",
       "      <td>137</td>\n",
       "      <td>137</td>\n",
       "      <td>137</td>\n",
       "      <td>137</td>\n",
       "      <td>137</td>\n",
       "      <td>137</td>\n",
       "      <td>137</td>\n",
       "    </tr>\n",
       "    <tr>\n",
       "      <th>cassava</th>\n",
       "      <td>141</td>\n",
       "      <td>141</td>\n",
       "      <td>141</td>\n",
       "      <td>141</td>\n",
       "      <td>141</td>\n",
       "      <td>141</td>\n",
       "      <td>141</td>\n",
       "      <td>141</td>\n",
       "      <td>141</td>\n",
       "    </tr>\n",
       "    <tr>\n",
       "      <th>potato</th>\n",
       "      <td>146</td>\n",
       "      <td>146</td>\n",
       "      <td>146</td>\n",
       "      <td>146</td>\n",
       "      <td>146</td>\n",
       "      <td>146</td>\n",
       "      <td>146</td>\n",
       "      <td>146</td>\n",
       "      <td>146</td>\n",
       "    </tr>\n",
       "    <tr>\n",
       "      <th>wheat</th>\n",
       "      <td>244</td>\n",
       "      <td>244</td>\n",
       "      <td>244</td>\n",
       "      <td>244</td>\n",
       "      <td>244</td>\n",
       "      <td>244</td>\n",
       "      <td>244</td>\n",
       "      <td>244</td>\n",
       "      <td>244</td>\n",
       "    </tr>\n",
       "  </tbody>\n",
       "</table>\n",
       "</div>"
      ],
      "text/plain": [
       "           Field_ID  Elevation  Rainfall  Min_temperature_C  \\\n",
       "Crop_type                                                     \n",
       "rice             48         48        48                 48   \n",
       "maize            82         82        82                 82   \n",
       "coffee           99         99        99                 99   \n",
       "banana          103        103       103                103   \n",
       "tea             137        137       137                137   \n",
       "cassava         141        141       141                141   \n",
       "potato          146        146       146                146   \n",
       "wheat           244        244       244                244   \n",
       "\n",
       "           Max_temperature_C   pH  Pollution_level  Plot_size  Annual_yield  \n",
       "Crop_type                                                                    \n",
       "rice                      48   48               48         48            48  \n",
       "maize                     82   82               82         82            82  \n",
       "coffee                    99   99               99         99            99  \n",
       "banana                   103  103              103        103           103  \n",
       "tea                      137  137              137        137           137  \n",
       "cassava                  141  141              141        141           141  \n",
       "potato                   146  146              146        146           146  \n",
       "wheat                    244  244              244        244           244  "
      ]
     },
     "execution_count": 96,
     "metadata": {},
     "output_type": "execute_result"
    }
   ],
   "source": [
    "grouped_crop = df.groupby('Crop_type').count()  #group df by 'Crop_type' column\n",
    "grouped_crop = grouped_crop.sort_values(by='Field_ID')  #sort in ascending order\n",
    "grouped_crop"
   ]
  },
  {
   "cell_type": "markdown",
   "id": "e99f1791-a8d1-4121-8388-d669d6b7ad8f",
   "metadata": {},
   "source": [
    "### Create the function to return the final result"
   ]
  },
  {
   "cell_type": "code",
   "execution_count": 99,
   "id": "8f22abe2-c604-4536-9294-1d8d783d455c",
   "metadata": {},
   "outputs": [
    {
     "data": {
      "text/plain": [
       "'30.ice'"
      ]
     },
     "execution_count": 99,
     "metadata": {},
     "output_type": "execute_result"
    }
   ],
   "source": [
    "def join_strings(first_df, second_df): \n",
    "    \"\"\"\n",
    "    Accepts two dataframes and concatenate the first three elements of the name of the first index of the first dataframe \n",
    "    and last three elements of the name of the first index of the second dataframe.\n",
    "\n",
    "    Attributes: \n",
    "        first_df(df): A Pandas DataFrame\n",
    "        second_df(df): A Pandas DataFrame\n",
    "    Returns:\n",
    "        joint_str(str): concatenated string of the first three elements of the name of the first index of the first dataframe \n",
    "        and last three elements of the name of the first index of the second dataframe.\n",
    "    \"\"\"\n",
    "    str_temp = str(first_df.index[0])\n",
    "    str_crop = str(second_df.index[0])\n",
    "    joint_str = str_temp[ :3] + str_crop[-3: ]\n",
    "    return joint_str\n",
    "\n",
    "join_strings(grouped_temp, grouped_crop)"
   ]
  },
  {
   "cell_type": "markdown",
   "id": "2295c4c9-280f-4ebf-a838-03e0b0f523d6",
   "metadata": {},
   "source": [
    "## Question 10\n",
    "Write Python code to create a violin plot visualising the distribution of 'Annual_yield' across different 'Elevation' ranges. Use the provided elevation range categories (Low: < 300m, Medium: 300m - 600m, High: > 600m) to categorise the data before plotting.  Examine the violin plot displaying the distribution of 'Annual Yield' across three elevation categories (Low, Medium, High). What insight does the violin plot provide regarding the relationship between elevation ranges and annual yield distribution?"
   ]
  },
  {
   "cell_type": "code",
   "execution_count": 125,
   "id": "1177e362-54a6-4b11-9a7e-d098823ca00c",
   "metadata": {},
   "outputs": [
    {
     "data": {
      "image/png": "[encoded data removed]",
      "text/plain": [
       "<Figure size 1200x600 with 1 Axes>"
      ]
     },
     "metadata": {},
     "output_type": "display_data"
    }
   ],
   "source": [
    "#Answer to the question above\n",
    "import seaborn as sns\n",
    "import matplotlib.pyplot as plt\n",
    "\n",
    "# Assuming df is your DataFrame containing 'Annual_yield' and 'Elevation' columns\n",
    "\n",
    "# Define elevation categories\n",
    "def elevation_level(df):\n",
    "    if df['Elevation'] < 300:\n",
    "        return 'Low'\n",
    "    elif df['Elevation'] >= 300 and df['Elevation'] <= 600:\n",
    "        return \"Medium\"\n",
    "    else:\n",
    "        return \"High\"\n",
    "df['Elevation_categories'] = df.apply(elevation_level, axis=1)\n",
    "\n",
    "plt.figure(figsize=(12,6))\n",
    "\n",
    "sns.violinplot(data=df, x='Elevation_categories', y='Annual_yield')\n",
    "plt.show()"
   ]
  },
  {
   "cell_type": "markdown",
   "id": "51010a02-8bc4-4909-8fe6-c3743f1716a0",
   "metadata": {},
   "source": [
    "### Observation from the Violin Plot"
   ]
  },
  {
   "cell_type": "markdown",
   "id": "0894a735-f426-49b2-9903-d2dde9976eed",
   "metadata": {},
   "source": [
    "From the Violin plot above, we observe that; The 'Low' elevation category shows a more consistent yield distribution with less variability compared to the 'Medium' and 'High' categories. This could indicate that lower elevations provide stable conditions for consistent agricultural output."
   ]
  },
  {
   "cell_type": "markdown",
   "id": "6c513c84-b405-4cd8-b213-673ee0eddd2a",
   "metadata": {},
   "source": [
    "## Question 11\n",
    "Assuming each 'Crop_type' contributes an integer value equal to its length (e.g., 'wheat' contributes 5), write a recursive function to sum the integer values for each unique crop type in the dataset. What is the sum?"
   ]
  },
  {
   "cell_type": "code",
   "execution_count": 127,
   "id": "4139c46b-aafa-4ea2-80ef-a34ce1c976c1",
   "metadata": {},
   "outputs": [
    {
     "name": "stdout",
     "output_type": "stream",
     "text": [
      "Total sum of integer values contributed by each unique crop type: 42\n"
     ]
    }
   ],
   "source": [
    "#Answer to the question above\n",
    "def sum_crop_values(data, unique_crops=None):\n",
    "    \"\"\"\n",
    "    Sums the integer values for each unique crop type in a dataset. The function recursively calls itself.\n",
    "    \n",
    "    Attributes:\n",
    "        data: A Pandas DataFrame.\n",
    "        Unique_crops(set): A set to include all unique crop types in the dataset, initially set to None.\n",
    "        \n",
    "    Returns:\n",
    "        total_sum(int): Total sum of integer values contributed by each unique crop type\n",
    "        \"\"\"\n",
    "    # Initialize the sum\n",
    "    total_sum = 0\n",
    "    \n",
    "    # Initialize unique_crops if it's None\n",
    "    if unique_crops is None:\n",
    "        unique_crops = set(data['Crop_type'])\n",
    "    \n",
    "    # Base case: If there are no more unique crop types, return 0\n",
    "    if len(unique_crops) == 0:\n",
    "        return 0\n",
    "    \n",
    "    # Get the first crop type from the set of unique crop types\n",
    "    crop_type = unique_crops.pop()\n",
    "    \n",
    "    # Calculate the contribution of the crop type and add it to the total sum\n",
    "    crop_contribution = len(crop_type)\n",
    "    total_sum += crop_contribution\n",
    "    \n",
    "    # Recursively call the function with the remaining unique crop types\n",
    "    total_sum += sum_crop_values(data, unique_crops)\n",
    "    \n",
    "    return total_sum\n",
    "\n",
    "# Example usage:\n",
    "# Assuming data is your DataFrame containing the 'Crop_type' column\n",
    "total_sum = sum_crop_values(df)\n",
    "print(\"Total sum of integer values contributed by each unique crop type:\", total_sum)\n"
   ]
  },
  {
   "cell_type": "markdown",
   "id": "caf49cce-61e1-4e32-b6b6-5b4398a91286",
   "metadata": {},
   "source": [
    "## Question 12\n",
    "Write Python code to perform a t-test comparing the average 'Annual_yield' between 'coffee' and 'banana' crop types using scipy.stats. What is the p-value, rounded to three decimal places?"
   ]
  },
  {
   "cell_type": "code",
   "execution_count": 128,
   "id": "ca5ee8a6-cc08-4219-897e-f4767b1193d1",
   "metadata": {},
   "outputs": [
    {
     "name": "stdout",
     "output_type": "stream",
     "text": [
      "P-value: 0.598\n"
     ]
    }
   ],
   "source": [
    "from scipy import stats\n",
    "\n",
    "# Assuming df is your DataFrame containing 'Annual_yield' and 'Crop_type' columns\n",
    "\n",
    "# Filter the DataFrame for 'coffee' and 'banana' crop types\n",
    "coffee_yield = df[df['Crop_type'] == 'coffee']['Annual_yield']\n",
    "banana_yield = df[df['Crop_type'] == 'banana']['Annual_yield']\n",
    "\n",
    "# Perform the t-test\n",
    "t_statistic, p_value = stats.ttest_ind(coffee_yield, banana_yield)\n",
    "\n",
    "# Round the p-value to three decimal places\n",
    "rounded_p_value = round(p_value, 3)\n",
    "\n",
    "print(\"P-value:\", rounded_p_value)\n"
   ]
  },
  {
   "cell_type": "markdown",
   "id": "55e0a2a3-c979-4628-b415-7b62dfe61595",
   "metadata": {},
   "source": [
    "## Summary\n",
    "This script was used to answer questions of a Python Exam that requires writing and running Python codes, included are the questions followed by the Python codes used in answering them. Below is the details of the exam's result after submission."
   ]
  },
  {
   "cell_type": "markdown",
   "id": "c793f12d-74d9-45e0-ac06-7ffa8afe4a28",
   "metadata": {},
   "source": [
    "#  \n",
    "\n",
    "<div align=\"center\" style=\" font-size: 80%; text-align: center; margin: 0 auto\">\n",
    "<img src=\"https://github.com/young-haywhy/PythonExam/blob/main/Exam%20Result%20(Image).png\"  style=\"width:200px\";/>\n",
    "</div>\n"
   ]
  }
 ],
 "metadata": {
  "kernelspec": {
   "display_name": "Python 3 (ipykernel)",
   "language": "python",
   "name": "python3"
  },
  "language_info": {
   "codemirror_mode": {
    "name": "ipython",
    "version": 3
   },
   "file_extension": ".py",
   "mimetype": "text/x-python",
   "name": "python",
   "nbconvert_exporter": "python",
   "pygments_lexer": "ipython3",
   "version": "3.11.7"
  }
 },
 "nbformat": 4,
 "nbformat_minor": 5
}
